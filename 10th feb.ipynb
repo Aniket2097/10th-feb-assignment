{
 "cells": [
  {
   "cell_type": "markdown",
   "id": "851529e5-5e45-4c2e-8931-75ccabb02e62",
   "metadata": {},
   "source": [
    "Q1. Which function is used to open a file? What are the different modes of opening a file? Explain each mode\n",
    "of file opening."
   ]
  },
  {
   "cell_type": "markdown",
   "id": "f042ccf8-5231-4290-a51e-469069e610f8",
   "metadata": {},
   "source": [
    "Before performing any operation (like read or write) on the file,first we have to open that file.For this we should use Python's inbuilt function open() But at the time of open, we have to specify mode,which represents the purpose of opening file.\n",
    "\n",
    "Sytax1 : f = open(filename, mode)\n",
    "\n",
    "Syntax2: with open(filename,moded) as f:\n",
    "\n",
    "The allowed modes in Python are\n",
    "\n",
    "r : open an existing file for read operation. The file pointer is positioned at the beginning of the file.If the specified file does not exist then we will get FileNotFoundError.This is default mode\n",
    "\n",
    "w : open an existing file for write operation. If the file already contains some data then it will be overridden. If the specified file is not already avaialble then this mode will create that file.\n",
    "\n",
    "a : open an existing file for append operation. It won't override existing data.If the specified file is not already avaialble then this mode will create a new file.\n",
    "\n",
    "r+ : To read and write data into the file. The previous data in the file will not be deleted.The file pointer is placed at the beginning of the file.\n",
    "\n",
    "w+ : To write and read data. It will override existing data.\n",
    "\n",
    "a+ : To append and read data from the file.It wont override existing data.\n",
    "\n",
    "x : To open a file in exclusive creation mode for write operation. If the file already\n",
    "\n",
    "exists then we will get FileExistsError.\n",
    "\n",
    "Note: All the above modes are applicable for text files. If the above modes suffixed with 'b' then these represents for binary files. Eg: rb,wb,ab,r+b,w+b,a+b,xb"
   ]
  },
  {
   "cell_type": "markdown",
   "id": "3238baf6-12d3-42dd-a987-79c17f25106d",
   "metadata": {},
   "source": [
    "Q2. Why close() function is used? Why is it important to close a file?"
   ]
  },
  {
   "cell_type": "markdown",
   "id": "8dbca446-a3a2-4211-b290-ba32d018aa92",
   "metadata": {},
   "source": [
    "The close() function is used to close an open file in Python.\n",
    "\n",
    "It's important to close a file in Python for several reasons:\n",
    "\n",
    "1)Releasing resources: When you open a file, your system reserves resources, such as memory, for that file. Closing the file frees up those resources for other tasks.\n",
    "\n",
    "2)Preventing data corruption: When you write to a file, the data is not immediately written to the file system. It's stored in a buffer, which is flushed to the file system when the file is closed. If you don't close a file properly, the data in the buffer may not be written to the file, leading to data corruption.\n",
    "\n",
    "3)Avoiding file lock issues: When you open a file, it's locked for use by the current process. If you don't close the file, other processes may not be able to access it, leading to file lock issues.\n",
    "\n",
    "4)Proper file management: Properly closing files helps ensure that the file system remains in a consistent state. If you don't close a file, the file may remain open, even after the Python process has exited, which can lead to unexpected behavior in other programs that try to access the file.\n",
    "\n",
    "Here's an example of how to properly close a file in Python:\n",
    "\n",
    "Open a file for reading file = open(\"file.txt\", \"r\")\n",
    "\n",
    "Read the contents of the file data = file.read()\n",
    "\n",
    "Do something with the data ...\n",
    "\n",
    "Close the file file.close()\n",
    "\n",
    "In this example, the file is opened for reading, the contents are read, and the file is then properly closed."
   ]
  },
  {
   "cell_type": "markdown",
   "id": "e0645ab5-dde9-4020-8798-0974c6b39377",
   "metadata": {},
   "source": [
    "Q3. Write a python program to create a text file. Write ‘I want to become a Data Scientist’ in that file. Then\n",
    "close the file. Open this file and read the content of the file."
   ]
  },
  {
   "cell_type": "code",
   "execution_count": 1,
   "id": "a0c0e7b9-8ce8-4b1a-b4ad-4532d9c913a3",
   "metadata": {},
   "outputs": [],
   "source": [
    "f = open (\"test.txt\" , 'w')"
   ]
  },
  {
   "cell_type": "code",
   "execution_count": 2,
   "id": "6c1f0673-0c3d-479b-9a8a-00a22e4fd922",
   "metadata": {},
   "outputs": [
    {
     "data": {
      "text/plain": [
       "33"
      ]
     },
     "execution_count": 2,
     "metadata": {},
     "output_type": "execute_result"
    }
   ],
   "source": [
    "f.write (\"I want to become a Data Scientist\")"
   ]
  },
  {
   "cell_type": "code",
   "execution_count": 3,
   "id": "516c130b-4e19-498b-bf62-9a35827f0829",
   "metadata": {},
   "outputs": [],
   "source": [
    "f.close()"
   ]
  },
  {
   "cell_type": "code",
   "execution_count": 4,
   "id": "b55d6118-caf4-4668-ac7a-20b1c6c017a4",
   "metadata": {},
   "outputs": [],
   "source": [
    "f = open (\"test.txt\" , 'r')"
   ]
  },
  {
   "cell_type": "code",
   "execution_count": 5,
   "id": "a1833f1f-5841-4c47-bf05-a18e85f2f661",
   "metadata": {},
   "outputs": [
    {
     "data": {
      "text/plain": [
       "'I want to become a Data Scientist'"
      ]
     },
     "execution_count": 5,
     "metadata": {},
     "output_type": "execute_result"
    }
   ],
   "source": [
    "f.read()"
   ]
  },
  {
   "cell_type": "markdown",
   "id": "015d212b-34eb-4af5-8c52-538e6502569e",
   "metadata": {},
   "source": [
    "Q4. Explain the following with python code: read(), readline() and readlines()."
   ]
  },
  {
   "cell_type": "markdown",
   "id": "201cf5c1-8966-4e53-97f3-71f78fb65cf9",
   "metadata": {},
   "source": [
    "The read(), readline(), and readlines() functions are used to read the contents of a file in Python. Here's a brief explanation of each function:\n",
    "\n",
    "1.read() - The read() function reads the entire contents of the file as a single string. Here's an example:"
   ]
  },
  {
   "cell_type": "code",
   "execution_count": 6,
   "id": "d7d85d30-2fb8-4782-bec3-418ad46fd2d4",
   "metadata": {},
   "outputs": [
    {
     "name": "stdout",
     "output_type": "stream",
     "text": [
      "I want to become a Data Scientist\n"
     ]
    }
   ],
   "source": [
    "# Open a file for reading\n",
    "with open(\"test.txt\", \"r\") as file:\n",
    "    content = file.read()\n",
    "    print(content)"
   ]
  },
  {
   "cell_type": "markdown",
   "id": "e8d63abf-46e3-41cd-abc5-5ee269490adb",
   "metadata": {},
   "source": [
    "2.readline() - The readline() function reads a single line from the file. Here's an example:"
   ]
  },
  {
   "cell_type": "code",
   "execution_count": 7,
   "id": "ebe38f4c-0652-4ea0-be77-5d6d2fa66568",
   "metadata": {},
   "outputs": [
    {
     "name": "stdout",
     "output_type": "stream",
     "text": [
      "I want to become a Data Scientist\n"
     ]
    }
   ],
   "source": [
    "# Open a file for reading\n",
    "with open(\"test.txt\", \"r\") as file:\n",
    "    line = file.readline()\n",
    "    while line:\n",
    "        print(line)\n",
    "        line = file.readline()"
   ]
  },
  {
   "cell_type": "markdown",
   "id": "3c7ac09e-ad4c-42d6-8b8e-edea0a817e8d",
   "metadata": {},
   "source": [
    "3.readlines() - The readlines() function reads the entire contents of the file as a list of strings, where each element of the list corresponds to a single line in the file. Here's an example:"
   ]
  },
  {
   "cell_type": "code",
   "execution_count": 8,
   "id": "b96c80e3-9095-4af6-bc7d-60cf0ccdeb62",
   "metadata": {},
   "outputs": [
    {
     "name": "stdout",
     "output_type": "stream",
     "text": [
      "I want to become a Data Scientist\n"
     ]
    }
   ],
   "source": [
    "# Open a file for reading\n",
    "with open(\"test.txt\", \"r\") as file:\n",
    "    lines = file.readlines()\n",
    "    for line in lines:\n",
    "        print(line)"
   ]
  },
  {
   "cell_type": "markdown",
   "id": "42b754b9-99f8-43d6-ba1b-db9527c32fe4",
   "metadata": {},
   "source": [
    "Q5. Explain why with statement is used with open(). What is the advantage of using with statement and\n",
    "open() together?"
   ]
  },
  {
   "cell_type": "markdown",
   "id": "cf93dd33-593a-4d2d-956b-8dd92d596194",
   "metadata": {},
   "source": [
    "The with statement is used with open() to ensure that the file is properly closed after processing is completed, even if an exception is raised during processing. The with statement provides a convenient way to manage the lifetime of an object, such as a file, and automatically takes care of closing the file when the with block is exited.\n",
    "\n",
    "Here's an example of using the with statement with open():\n"
   ]
  },
  {
   "cell_type": "code",
   "execution_count": 9,
   "id": "8198089d-dc1b-48aa-8f1e-7926f000a500",
   "metadata": {},
   "outputs": [
    {
     "name": "stdout",
     "output_type": "stream",
     "text": [
      "I want to become a Data Scientist\n"
     ]
    }
   ],
   "source": [
    "with open(\"test.txt\", \"r\") as file:\n",
    "    content = file.read()\n",
    "    print(content)"
   ]
  },
  {
   "cell_type": "markdown",
   "id": "b991fe34-8fe3-4150-b60d-9c284fb2b785",
   "metadata": {},
   "source": [
    "In this example, the file text_file.txt is opened using the open() function, and the with statement is used to manage the file's lifetime. The file is automatically closed when the with block is exited, even if an exception is raised during processing.\n",
    "\n",
    "The advantage of using the with statement with open() is that it provides a way to handle file I/O in a clean and consistent manner. It eliminates the need to manually close the file using the file.close() method, which can be prone to errors, especially if there are multiple files being processed or if an exception is raised during processing.\n",
    "\n",
    "By using the with statement, you can ensure that the file is properly closed, even if an exception is raised, which helps to prevent resource leaks and makes your code more robust and reliable."
   ]
  },
  {
   "cell_type": "markdown",
   "id": "d07c0068-fb05-49e0-b5e1-a55960487062",
   "metadata": {},
   "source": [
    "Q6. Explain the write() and writelines() functions. Give a suitable example."
   ]
  },
  {
   "cell_type": "markdown",
   "id": "ccb4e058-f34f-446a-b32a-c1b088451f55",
   "metadata": {},
   "source": [
    "The write() and writelines() functions are used to write data to a file in Python.\n",
    "\n",
    "write() - The write() function writes a string to a file. Here's an example:"
   ]
  },
  {
   "cell_type": "code",
   "execution_count": 10,
   "id": "823e337a-825b-4948-987e-14c456b92735",
   "metadata": {},
   "outputs": [
    {
     "name": "stdout",
     "output_type": "stream",
     "text": [
      "I want to become a Data Scientist\n"
     ]
    }
   ],
   "source": [
    "# Open a file for writing\n",
    "with open(\"text_file1.txt\", \"w\") as file:\n",
    "    file.write(\"I want to become a Data Scientist\")\n",
    "    \n",
    "with open(\"text_file1.txt\",\"r\") as file:\n",
    "    content = file.read()\n",
    "    print(content)"
   ]
  },
  {
   "cell_type": "markdown",
   "id": "ec66b515-b961-4c1e-993d-7e07156cda74",
   "metadata": {},
   "source": [
    "n this example, the file text_file.txt is opened using the open() function in write mode (\"w\"), and the write() function is used to write a string to the file.\n",
    "\n",
    "2.writelines() - The writelines() function writes a list of strings to a file. Here's an example:"
   ]
  },
  {
   "cell_type": "code",
   "execution_count": 11,
   "id": "969ba42d-e7fa-4904-bd93-55d12dec2c97",
   "metadata": {},
   "outputs": [
    {
     "name": "stdout",
     "output_type": "stream",
     "text": [
      "I want to become a Data ScientistData Science is my passion\n"
     ]
    }
   ],
   "source": [
    "# Open a file for writing\n",
    "with open(\"text_file2.txt\", \"w\") as file:\n",
    "    lines = [\"I want to become a Data Scientist\", \"Data Science is my passion\"]\n",
    "    file.writelines(lines)\n",
    "\n",
    "with open(\"text_file2.txt\",\"r\") as file:\n",
    "    content = file.read()\n",
    "    print(content)"
   ]
  },
  {
   "cell_type": "markdown",
   "id": "7f6e9f09-561e-407d-a05d-5de004a86626",
   "metadata": {},
   "source": [
    "n this example, the file text_file.txt is opened using the open() function in write mode (\"w\"), and the writelines() function is used to write a list of strings to the file. The writelines() function writes each element of the list as a separate line in the file.\n",
    "\n",
    "Note that when using writelines(), there is no automatic newline character added to the end of each line, so you may need to add the newline character explicitly when constructing the list of strings."
   ]
  },
  {
   "cell_type": "code",
   "execution_count": null,
   "id": "8f34d871-50fe-4ce9-8b7b-dbea46a06bb6",
   "metadata": {},
   "outputs": [],
   "source": []
  },
  {
   "cell_type": "code",
   "execution_count": null,
   "id": "2732913e-380a-49b5-bd5d-4cb2807accdb",
   "metadata": {},
   "outputs": [],
   "source": []
  },
  {
   "cell_type": "code",
   "execution_count": 12,
   "id": "265220ed-f84f-4d1f-95c8-22cdd8a2cb2c",
   "metadata": {},
   "outputs": [
    {
     "name": "stdout",
     "output_type": "stream",
     "text": [
      "the assignment is completed\n"
     ]
    }
   ],
   "source": [
    "print (\"the assignment is completed\")"
   ]
  },
  {
   "cell_type": "code",
   "execution_count": null,
   "id": "b05d0f75-4451-4388-9c1f-db3db122bdff",
   "metadata": {},
   "outputs": [],
   "source": []
  },
  {
   "cell_type": "code",
   "execution_count": null,
   "id": "8b73c4c7-ba79-4fdd-8728-f0dfeaa485c5",
   "metadata": {},
   "outputs": [],
   "source": []
  },
  {
   "cell_type": "code",
   "execution_count": null,
   "id": "784250e9-7be8-4c86-8ed9-f5e120317765",
   "metadata": {},
   "outputs": [],
   "source": []
  },
  {
   "cell_type": "code",
   "execution_count": null,
   "id": "ca248211-2c7c-401c-ac3f-0dda59cf54fc",
   "metadata": {},
   "outputs": [],
   "source": []
  },
  {
   "cell_type": "code",
   "execution_count": null,
   "id": "5122d503-8587-4c29-a85d-c95a946288b4",
   "metadata": {},
   "outputs": [],
   "source": []
  },
  {
   "cell_type": "code",
   "execution_count": null,
   "id": "3e6d908e-61f4-480c-ae3b-18062abb64b3",
   "metadata": {},
   "outputs": [],
   "source": []
  },
  {
   "cell_type": "code",
   "execution_count": null,
   "id": "64e2bba0-8c72-4a54-8f5f-6a4fba273639",
   "metadata": {},
   "outputs": [],
   "source": []
  },
  {
   "cell_type": "code",
   "execution_count": null,
   "id": "a015f8dc-2742-4c5d-ba20-31b406a13a0b",
   "metadata": {},
   "outputs": [],
   "source": []
  }
 ],
 "metadata": {
  "kernelspec": {
   "display_name": "Python 3 (ipykernel)",
   "language": "python",
   "name": "python3"
  },
  "language_info": {
   "codemirror_mode": {
    "name": "ipython",
    "version": 3
   },
   "file_extension": ".py",
   "mimetype": "text/x-python",
   "name": "python",
   "nbconvert_exporter": "python",
   "pygments_lexer": "ipython3",
   "version": "3.10.8"
  }
 },
 "nbformat": 4,
 "nbformat_minor": 5
}
